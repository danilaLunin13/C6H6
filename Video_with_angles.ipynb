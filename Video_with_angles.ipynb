{
 "cells": [
  {
   "cell_type": "code",
   "execution_count": 12,
   "metadata": {},
   "outputs": [],
   "source": [
    "# Импортируем библиотеку OpenCV\n",
    "import cv2"
   ]
  },
  {
   "cell_type": "code",
   "execution_count": 13,
   "metadata": {},
   "outputs": [],
   "source": [
    "# Создаём новый файл видео 'result.mp4', который должен быть схож с исходным видео по характеристикам\n",
    "cap = cv2.VideoCapture('CNTRL.mp4')\n",
    "fps_video = cap.get(cv2.CAP_PROP_FPS)\n",
    "fourcc = cv2.VideoWriter_fourcc(*\"mp4v\")\n",
    "frame_width = int(cap.get(cv2.CAP_PROP_FRAME_WIDTH))\n",
    "frame_height = int(cap.get(cv2.CAP_PROP_FRAME_HEIGHT))\n",
    "video_writer = cv2.VideoWriter('result.mp4', fourcc, fps_video, (frame_width, frame_height))"
   ]
  },
  {
   "cell_type": "code",
   "execution_count": 14,
   "metadata": {},
   "outputs": [],
   "source": [
    "# Создаём словарь, в котором прописаны соотношения: кадр (ключ) - угол (значение)\n",
    "angle_frame = {}\n",
    "with open('angles.txt') as f:\n",
    "    lines = f.readlines()\n",
    "for line in lines:\n",
    "    ang, fr = list(map(str, line.split(sep=' ')))\n",
    "    angle_frame[int(fr)] = int(float(ang))"
   ]
  },
  {
   "cell_type": "code",
   "execution_count": 15,
   "metadata": {},
   "outputs": [],
   "source": [
    "# С помощью созданного словаря наносим текст (значение углы) на определённые кадры видео 'result.mp4'\n",
    "frame_id = 1\n",
    "while (cap.isOpened()):\n",
    "    ret, frame = cap.read()\n",
    "    if ret == True:\n",
    "        if frame_id in angle_frame.keys():\n",
    "            cv2.putText(frame, str(angle_frame[frame_id]), (50, 50), cv2.FONT_HERSHEY_SIMPLEX, 1, (0,255,155), 2)\n",
    "        video_writer.write(frame)\n",
    "    else:\n",
    "        video_writer.release()\n",
    "        break\n",
    "    frame_id += 1"
   ]
  }
 ],
 "metadata": {
  "kernelspec": {
   "display_name": "model",
   "language": "python",
   "name": "python3"
  },
  "language_info": {
   "codemirror_mode": {
    "name": "ipython",
    "version": 3
   },
   "file_extension": ".py",
   "mimetype": "text/x-python",
   "name": "python",
   "nbconvert_exporter": "python",
   "pygments_lexer": "ipython3",
   "version": "3.11.8"
  }
 },
 "nbformat": 4,
 "nbformat_minor": 2
}
